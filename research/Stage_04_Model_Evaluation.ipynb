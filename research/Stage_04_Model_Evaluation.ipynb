{
 "cells": [
  {
   "cell_type": "code",
   "execution_count": 1,
   "metadata": {},
   "outputs": [],
   "source": [
    "import torch\n",
    "import pandas as pd\n",
    "import numpy as np\n",
    "import os\n",
    "from pathlib import Path\n",
    "from dataclasses import dataclass"
   ]
  },
  {
   "cell_type": "code",
   "execution_count": 2,
   "metadata": {},
   "outputs": [
    {
     "data": {
      "text/plain": [
       "'/home/priyanshu1303d/Projects/Heart_Segmentation/research'"
      ]
     },
     "execution_count": 2,
     "metadata": {},
     "output_type": "execute_result"
    }
   ],
   "source": [
    "%pwd"
   ]
  },
  {
   "cell_type": "code",
   "execution_count": 3,
   "metadata": {},
   "outputs": [],
   "source": [
    "os.chdir(\"../\")"
   ]
  },
  {
   "cell_type": "code",
   "execution_count": 4,
   "metadata": {},
   "outputs": [
    {
     "data": {
      "text/plain": [
       "'/home/priyanshu1303d/Projects/Heart_Segmentation'"
      ]
     },
     "execution_count": 4,
     "metadata": {},
     "output_type": "execute_result"
    }
   ],
   "source": [
    "%pwd"
   ]
  },
  {
   "cell_type": "code",
   "execution_count": 5,
   "metadata": {},
   "outputs": [],
   "source": [
    "@dataclass(frozen=True)\n",
    "class ModelEvaluationConfig:\n",
    "    root_dir: Path\n",
    "    images_dir: Path\n",
    "    labels_dir: Path\n",
    "    model_metrics_json: Path\n",
    "    model_save_path : Path\n",
    "    params_batch_size: int\n"
   ]
  },
  {
   "cell_type": "code",
   "execution_count": null,
   "metadata": {},
   "outputs": [],
   "source": [
    "from Heart_Segmentation.constants import *\n",
    "from Heart_Segmentation.utils.common import read_yaml , create_directories"
   ]
  },
  {
   "cell_type": "code",
   "execution_count": 7,
   "metadata": {},
   "outputs": [],
   "source": [
    "class ConfigurationManager:\n",
    "    def __init__(self, config_filepath=CONFIG_FILE_PATH, params_filepath=PARAMS_FILE_PATH):\n",
    "        self.config = read_yaml(config_filepath)\n",
    "        self.params = read_yaml(params_filepath)\n",
    "        create_directories([self.config.artifacts_root])\n",
    "\n",
    "    def get_model_evaluation_config(self) -> ModelEvaluationConfig:\n",
    "        config = self.config.model_evaluation\n",
    "        create_directories([config.root_dir])\n",
    "\n",
    "        model_evaluation_config = ModelEvaluationConfig(\n",
    "            root_dir=Path(config.root_dir),\n",
    "            images_dir=Path(config.images_dir),\n",
    "            labels_dir=Path(config.labels_dir),\n",
    "            model_metrics_json=Path(config.model_metrics_json),\n",
    "            model_save_path = Path(config.model_save_path),\n",
    "            params_batch_size=self.params.BATCH_SIZE\n",
    "        )\n",
    "        return model_evaluation_config"
   ]
  },
  {
   "cell_type": "code",
   "execution_count": 8,
   "metadata": {},
   "outputs": [],
   "source": [
    "from Heart_Segmentation.constants import *\n",
    "from Heart_Segmentation.utils.common import read_yaml , create_directories\n",
    "from Heart_Segmentation import logger\n",
    "from torch.utils.data import Dataset , DataLoader\n",
    "import nibabel as nib"
   ]
  },
  {
   "cell_type": "code",
   "execution_count": 9,
   "metadata": {},
   "outputs": [],
   "source": [
    "# 2. Dataset (Reusing HeartSegmentationDataset from training)\n",
    "class HeartSegmentationDataset(Dataset):\n",
    "    def __init__(self, images_dir: str, labels_dir: str):\n",
    "        self.images_dir = images_dir\n",
    "        self.labels_dir = labels_dir\n",
    "        self.image_files = [f for f in os.listdir(images_dir) if f.endswith('.nii.gz')]\n",
    "        logger.info(f\"Found {len(self.image_files)} files in {images_dir}\")\n",
    "        if not self.image_files:\n",
    "            raise ValueError(f\"No .nii.gz files found in {images_dir}\")\n",
    "\n",
    "    def __len__(self):\n",
    "        return len(self.image_files)\n",
    "    \n",
    "    def __getitem__(self, idx):\n",
    "        image_file = self.image_files[idx]\n",
    "        image_path = os.path.join(self.images_dir, image_file)\n",
    "        label_path = os.path.join(self.labels_dir, image_file)\n",
    "        \n",
    "        image = nib.load(image_path).get_fdata()\n",
    "        label = nib.load(label_path).get_fdata()\n",
    "        \n",
    "        image = torch.tensor(image, dtype=torch.float32).unsqueeze(0)  # [1, 128, 128, 64]\n",
    "        label = torch.tensor(label, dtype=torch.long)  # [128, 128, 64]\n",
    "        \n",
    "        return image, label, image_file"
   ]
  },
  {
   "cell_type": "code",
   "execution_count": 10,
   "metadata": {},
   "outputs": [],
   "source": [
    "from monai.networks.nets import UNet\n",
    "import json\n",
    "from Heart_Segmentation.utils.common import save_json"
   ]
  },
  {
   "cell_type": "code",
   "execution_count": 11,
   "metadata": {},
   "outputs": [],
   "source": [
    "class ModelEvaluation:\n",
    "    def __init__(self, config: ModelEvaluationConfig):\n",
    "        self.config = config\n",
    "        self.device = torch.device(\"cuda\" if torch.cuda.is_available() else \"cpu\")\n",
    "        \n",
    "        # Load the trained U-Net model\n",
    "        self.model = UNet(\n",
    "            spatial_dims=3,\n",
    "            in_channels=1,\n",
    "            out_channels=3,\n",
    "            channels=(16, 32, 64, 128, 256),\n",
    "            strides=(2, 2, 2, 2),\n",
    "            num_res_units=2\n",
    "        ).to(self.device)\n",
    "        self.model.load_state_dict(torch.load(self.config.model_save_path))\n",
    "        self.model.eval()\n",
    "        \n",
    "        # DataLoader for evaluation\n",
    "        dataset = HeartSegmentationDataset(self.config.images_dir, self.config.labels_dir)\n",
    "        self.dataloader = DataLoader(dataset, batch_size=self.config.params_batch_size, shuffle=False, pin_memory=True)\n",
    "\n",
    "    def calculate_dice_score(self, pred: torch.Tensor, target: torch.Tensor, smooth=1e-5):\n",
    "        pred_flat = pred.flatten()\n",
    "        target_flat = target.flatten()\n",
    "        intersection = (pred_flat * target_flat).sum()\n",
    "        return (2. * intersection + smooth) / (pred_flat.sum() + target_flat.sum() + smooth)\n",
    "\n",
    "    def calculate_iou(self, pred: torch.Tensor, target: torch.Tensor, smooth=1e-5):\n",
    "        pred_flat = pred.flatten()\n",
    "        target_flat = target.flatten()\n",
    "        intersection = (pred_flat * target_flat).sum()\n",
    "        union = pred_flat.sum() + target_flat.sum() - intersection\n",
    "        return (intersection + smooth) / (union + smooth)\n",
    "\n",
    "    def save_metrics_to_json(self, metrics: dict):\n",
    "        \"\"\"Save evaluation metrics to a JSON file.\"\"\"\n",
    "        json_path = self.config.model_metrics_json\n",
    "        try:\n",
    "            with open(json_path, 'w') as f:\n",
    "                json.dump(metrics, f, indent=4)\n",
    "            logger.info(f\"Metrics saved to {json_path}\")\n",
    "        except Exception as e:\n",
    "            logger.error(f\"Failed to save metrics to {json_path}: {str(e)}\")\n",
    "            raise e\n",
    "\n",
    "    def evaluate(self):\n",
    "        \"\"\"Run evaluation, compute metrics, and save them to JSON.\"\"\"\n",
    "        logger.info(\"-------------Started Evaluation----------\")\n",
    "        dice_scores = []\n",
    "        iou_scores = []\n",
    "        accuracies = []\n",
    "        confidences = []\n",
    "\n",
    "        with torch.no_grad():\n",
    "            for images, labels, _ in self.dataloader:\n",
    "                images, labels = images.to(self.device), labels.to(self.device)\n",
    "                \n",
    "                outputs = self.model(images)\n",
    "                probs = torch.softmax(outputs, dim=1)\n",
    "                preds = torch.argmax(probs, dim=1)\n",
    "                \n",
    "                confidence = torch.max(probs, dim=1)[0].mean().cpu().item()\n",
    "                confidences.append(confidence)\n",
    "\n",
    "                for pred, label in zip(preds, labels):\n",
    "                    pred_binary = (pred > 0).float()\n",
    "                    label_binary = (label > 0).float()\n",
    "                    \n",
    "                    dice = self.calculate_dice_score(pred_binary, label_binary)\n",
    "                    iou = self.calculate_iou(pred_binary, label_binary)\n",
    "                    accuracy = (pred == label).float().mean().cpu().item()\n",
    "                    \n",
    "                    dice_scores.append(dice.cpu().item())\n",
    "                    iou_scores.append(iou.cpu().item())\n",
    "                    accuracies.append(accuracy)\n",
    "\n",
    "        # Average metrics\n",
    "        avg_dice = np.mean(dice_scores)\n",
    "        avg_iou = np.mean(iou_scores)\n",
    "        avg_accuracy = np.mean(accuracies) * 100\n",
    "        avg_confidence = np.mean(confidences) * 100\n",
    "\n",
    "        # Log results\n",
    "        logger.info(f\"Evaluation Results:\")\n",
    "        logger.info(f\"Average Dice Score: {avg_dice:.4f}\")\n",
    "        logger.info(f\"Average IoU Score: {avg_iou:.4f}\")\n",
    "        logger.info(f\"Average Accuracy: {avg_accuracy:.2f}%\")\n",
    "        logger.info(f\"Average Confidence Score: {avg_confidence:.2f}%\")\n",
    "\n",
    "       # Save metrics to JSON using the imported save_json function\n",
    "        metrics = {\n",
    "            \"average_dice_score\": avg_dice,\n",
    "            \"average_iou_score\": avg_iou,\n",
    "            \"average_accuracy_percent\": avg_accuracy,\n",
    "            \"average_confidence_score_percent\": avg_confidence\n",
    "        }\n",
    "        save_json(path=self.config.model_metrics_json, data=metrics)\n",
    "\n",
    "        return avg_dice, avg_iou, avg_accuracy, avg_confidence"
   ]
  },
  {
   "cell_type": "code",
   "execution_count": 12,
   "metadata": {},
   "outputs": [
    {
     "name": "stdout",
     "output_type": "stream",
     "text": [
      "[2025-03-26 23:20:32,571: INFO: common : yaml file: config/config.yaml loaded successfully]\n",
      "[2025-03-26 23:20:32,575: INFO: common : yaml file: params.yaml loaded successfully]\n",
      "[2025-03-26 23:20:32,577: INFO: common : created directory at: artifacts]\n"
     ]
    },
    {
     "name": "stdout",
     "output_type": "stream",
     "text": [
      "[2025-03-26 23:20:32,578: INFO: common : created directory at: artifacts/model_evaluation]\n",
      "[2025-03-26 23:20:32,812: INFO: 3417093127 : Found 20 files in artifacts/data_preprocessing/preprocessed]\n",
      "[2025-03-26 23:20:32,813: INFO: 1401051403 : -------------Started Evaluation----------]\n",
      "[2025-03-26 23:20:34,893: INFO: 1401051403 : Evaluation Results:]\n",
      "[2025-03-26 23:20:34,894: INFO: 1401051403 : Average Dice Score: 0.3684]\n",
      "[2025-03-26 23:20:34,895: INFO: 1401051403 : Average IoU Score: 0.2287]\n",
      "[2025-03-26 23:20:34,895: INFO: 1401051403 : Average Accuracy: 99.64%]\n",
      "[2025-03-26 23:20:34,896: INFO: 1401051403 : Average Confidence Score: 95.92%]\n",
      "[2025-03-26 23:20:34,897: INFO: common : json file saved at : artifacts/model_evaluation/dict.json]\n"
     ]
    }
   ],
   "source": [
    "try:\n",
    "    config = ConfigurationManager()\n",
    "    eval_config = config.get_model_evaluation_config()\n",
    "    model_eval = ModelEvaluation(eval_config)\n",
    "    model_eval.evaluate()\n",
    "except Exception as e:\n",
    "    logger.error(f\"Error during evaluation: {str(e)}\")\n",
    "    raise e"
   ]
  },
  {
   "cell_type": "code",
   "execution_count": null,
   "metadata": {},
   "outputs": [],
   "source": []
  }
 ],
 "metadata": {
  "kernelspec": {
   "display_name": "heart",
   "language": "python",
   "name": "python3"
  },
  "language_info": {
   "codemirror_mode": {
    "name": "ipython",
    "version": 3
   },
   "file_extension": ".py",
   "mimetype": "text/x-python",
   "name": "python",
   "nbconvert_exporter": "python",
   "pygments_lexer": "ipython3",
   "version": "3.10.16"
  }
 },
 "nbformat": 4,
 "nbformat_minor": 2
}
