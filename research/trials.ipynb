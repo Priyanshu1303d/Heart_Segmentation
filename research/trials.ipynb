{
 "cells": [
  {
   "cell_type": "code",
   "execution_count": 1,
   "metadata": {},
   "outputs": [
    {
     "name": "stdout",
     "output_type": "stream",
     "text": [
      "2.6.0+cu118\n",
      "True\n",
      "NVIDIA GeForce GTX 1650 Ti\n"
     ]
    }
   ],
   "source": [
    "import torch\n",
    "print(torch.__version__)  # Should print 2.x.x\n",
    "print(torch.cuda.is_available())  # Should print True\n",
    "print(torch.cuda.get_device_name(0))  # Should print GTX 1650 Ti"
   ]
  },
  {
   "cell_type": "code",
   "execution_count": 2,
   "metadata": {},
   "outputs": [],
   "source": [
    "import os\n",
    "from pathlib import Path"
   ]
  },
  {
   "cell_type": "code",
   "execution_count": 3,
   "metadata": {},
   "outputs": [
    {
     "data": {
      "text/plain": [
       "'/home/priyanshu1303d/Projects/Heart_Segmentation/research'"
      ]
     },
     "execution_count": 3,
     "metadata": {},
     "output_type": "execute_result"
    }
   ],
   "source": [
    "%pwd"
   ]
  },
  {
   "cell_type": "code",
   "execution_count": 4,
   "metadata": {},
   "outputs": [],
   "source": [
    "os.chdir(\"../\")"
   ]
  },
  {
   "cell_type": "code",
   "execution_count": 5,
   "metadata": {},
   "outputs": [
    {
     "data": {
      "text/plain": [
       "'/home/priyanshu1303d/Projects/Heart_Segmentation'"
      ]
     },
     "execution_count": 5,
     "metadata": {},
     "output_type": "execute_result"
    }
   ],
   "source": [
    "%pwd"
   ]
  },
  {
   "cell_type": "code",
   "execution_count": 6,
   "metadata": {},
   "outputs": [
    {
     "name": "stdout",
     "output_type": "stream",
     "text": [
      "\u001b[0m\u001b[01;34mconfig\u001b[0m/       dvc.yaml  \u001b[01;34mlogs\u001b[0m/        requirements.txt  \u001b[01;34msrc\u001b[0m/\n",
      "\u001b[01;34mData\u001b[0m/         \u001b[01;34mgithub\u001b[0m/   params.yaml  \u001b[01;34mresearch\u001b[0m/         template.py\n",
      "\u001b[01;31mData_Zip.zip\u001b[0m  LICENSE   README.md    setup.py          \u001b[01;34mtemplates\u001b[0m/\n"
     ]
    }
   ],
   "source": [
    "ls"
   ]
  },
  {
   "cell_type": "code",
   "execution_count": 12,
   "metadata": {},
   "outputs": [
    {
     "name": "stdout",
     "output_type": "stream",
     "text": [
      "Requirement already satisfied: gdown in /home/priyanshu1303d/anaconda3/envs/heart/lib/python3.10/site-packages (5.2.0)\n",
      "Requirement already satisfied: beautifulsoup4 in /home/priyanshu1303d/anaconda3/envs/heart/lib/python3.10/site-packages (from gdown) (4.13.3)\n",
      "Requirement already satisfied: filelock in /home/priyanshu1303d/anaconda3/envs/heart/lib/python3.10/site-packages (from gdown) (3.18.0)\n",
      "Requirement already satisfied: requests[socks] in /home/priyanshu1303d/anaconda3/envs/heart/lib/python3.10/site-packages (from gdown) (2.32.3)\n",
      "Requirement already satisfied: tqdm in /home/priyanshu1303d/anaconda3/envs/heart/lib/python3.10/site-packages (from gdown) (4.67.1)\n",
      "Requirement already satisfied: soupsieve>1.2 in /home/priyanshu1303d/anaconda3/envs/heart/lib/python3.10/site-packages (from beautifulsoup4->gdown) (2.6)\n",
      "Requirement already satisfied: typing-extensions>=4.0.0 in /home/priyanshu1303d/anaconda3/envs/heart/lib/python3.10/site-packages (from beautifulsoup4->gdown) (4.12.2)\n",
      "Requirement already satisfied: charset-normalizer<4,>=2 in /home/priyanshu1303d/anaconda3/envs/heart/lib/python3.10/site-packages (from requests[socks]->gdown) (3.4.1)\n",
      "Requirement already satisfied: idna<4,>=2.5 in /home/priyanshu1303d/anaconda3/envs/heart/lib/python3.10/site-packages (from requests[socks]->gdown) (3.10)\n",
      "Requirement already satisfied: urllib3<3,>=1.21.1 in /home/priyanshu1303d/anaconda3/envs/heart/lib/python3.10/site-packages (from requests[socks]->gdown) (2.3.0)\n",
      "Requirement already satisfied: certifi>=2017.4.17 in /home/priyanshu1303d/anaconda3/envs/heart/lib/python3.10/site-packages (from requests[socks]->gdown) (2025.1.31)\n",
      "Requirement already satisfied: PySocks!=1.5.7,>=1.5.6 in /home/priyanshu1303d/anaconda3/envs/heart/lib/python3.10/site-packages (from requests[socks]->gdown) (1.7.1)\n"
     ]
    }
   ],
   "source": [
    "!pip install gdown"
   ]
  },
  {
   "cell_type": "code",
   "execution_count": null,
   "metadata": {},
   "outputs": [
    {
     "name": "stderr",
     "output_type": "stream",
     "text": [
      "Retrieving folder contents\n"
     ]
    },
    {
     "name": "stdout",
     "output_type": "stream",
     "text": [
      "Processing file 1bOgu_rWcJqBRdmHqKzvD98QplpURHaIn Heart.zip\n"
     ]
    },
    {
     "name": "stderr",
     "output_type": "stream",
     "text": [
      "Retrieving folder contents completed\n",
      "Building directory structure\n",
      "Building directory structure completed\n",
      "Downloading...\n",
      "From (original): https://drive.google.com/uc?id=1bOgu_rWcJqBRdmHqKzvD98QplpURHaIn\n",
      "From (redirected): https://drive.google.com/uc?id=1bOgu_rWcJqBRdmHqKzvD98QplpURHaIn&confirm=t&uuid=2804f532-5765-4869-b2c6-0d97cddddf5c\n",
      "To: /home/priyanshu1303d/Projects/Heart_Segmentation/Data/Heart.zip\n",
      "100%|██████████| 454M/454M [00:12<00:00, 37.6MB/s] \n",
      "Download completed\n"
     ]
    },
    {
     "data": {
      "text/plain": [
       "['Data/Heart.zip']"
      ]
     },
     "execution_count": 35,
     "metadata": {},
     "output_type": "execute_result"
    }
   ],
   "source": [
    "# #for the folder \n",
    "# import gdown \n",
    "\n",
    "# url = 'https://drive.google.com/drive/folders/19aBmKV2W7iwY0MzPjVmEM4a-dDxFvqOM?usp=sharing'\n",
    "# output_folder = 'Data'\n",
    "\n",
    "\n",
    "# gdown.download_folder(url , output=output_folder , use_cookies=False , quiet=False)"
   ]
  },
  {
   "cell_type": "code",
   "execution_count": 36,
   "metadata": {},
   "outputs": [],
   "source": [
    "### for zip files downlaod\n",
    "# import gdown \n",
    "# import zipfile \n",
    "\n",
    "# zip_url = 'https://drive.google.com/file/d/1uPCqKVlKLHoW52oLBvdw0hSQRVmMLfML/view?usp=sharing'\n",
    "# zip_path = 'Data/data.zip' # the folder must be \n",
    "\n",
    "# gdown.download(zip_url , zip_path , quiet = False)"
   ]
  },
  {
   "cell_type": "code",
   "execution_count": null,
   "metadata": {},
   "outputs": [],
   "source": [
    "# #Extracting the folder \n",
    "# import zipfile\n",
    "# with zipfile.ZipFile('Data/Heart.zip', 'r') as zip_ref:\n",
    "#     zip_ref.extractall(\"Data/data_ingetsion\")"
   ]
  },
  {
   "cell_type": "code",
   "execution_count": 41,
   "metadata": {},
   "outputs": [
    {
     "data": {
      "text/plain": [
       "'/home/priyanshu1303d/Projects/Heart_Segmentation'"
      ]
     },
     "execution_count": 41,
     "metadata": {},
     "output_type": "execute_result"
    }
   ],
   "source": [
    "%pwd"
   ]
  },
  {
   "cell_type": "code",
   "execution_count": null,
   "metadata": {},
   "outputs": [],
   "source": [
    "# from ensure import ensure_annotations\n",
    "\n",
    "# @ensure_annotations\n",
    "# def zip_extract(zip_path: str, dest_path: str):\n",
    "#     '''\n",
    "#     Extracts the contents of a zip file to a specified destination directory.\n",
    "\n",
    "#     Args:\n",
    "#         zip_path (str): Path to the zip file to be extracted.\n",
    "#         dest_path (str): Directory where the zip contents will be extracted.\n",
    "\n",
    "#     Raises:\n",
    "#         FileNotFoundError: If the zip file does not exist.\n",
    "#         zipfile.BadZipFile: If the file is not a valid zip archive.\n",
    "#         PermissionError: If the destination directory is not writable.\n",
    "#     '''\n",
    "#     if not os.path.exists(zip_path):\n",
    "#         raise FileNotFoundError(f\"Zip file not found at: {zip_path}\")\n",
    "    \n",
    "#     try:\n",
    "#         with zipfile.ZipFile(zip_path, 'r') as zip_ref:\n",
    "#             zip_ref.extractall(dest_path)\n",
    "#     except zipfile.BadZipFile:\n",
    "#         raise zipfile.BadZipFile(f\"{zip_path} is not a valid zip file\")\n",
    "#     except PermissionError:\n",
    "#         raise PermissionError(f\"Cannot write to destination: {dest_path}\")"
   ]
  },
  {
   "cell_type": "code",
   "execution_count": null,
   "metadata": {},
   "outputs": [],
   "source": [
    "# dest_path = 'Data/data_ingestion'\n",
    "# zip_path = 'Data/Heart.zip'\n",
    "\n",
    "# zip_extract(zip_path , dest_path)"
   ]
  },
  {
   "cell_type": "markdown",
   "metadata": {},
   "source": [
    "# Modular Coding"
   ]
  },
  {
   "cell_type": "code",
   "execution_count": 7,
   "metadata": {},
   "outputs": [
    {
     "data": {
      "text/plain": [
       "'/home/priyanshu1303d/Projects/Heart_Segmentation'"
      ]
     },
     "execution_count": 7,
     "metadata": {},
     "output_type": "execute_result"
    }
   ],
   "source": [
    "%pwd"
   ]
  },
  {
   "cell_type": "code",
   "execution_count": 21,
   "metadata": {},
   "outputs": [],
   "source": [
    "from dataclasses import dataclass\n",
    "from pathlib import Path\n",
    "\n",
    "@dataclass(frozen = True)\n",
    "class DataIngestionConfig:\n",
    "    root_dir : Path\n",
    "    source_url : str\n",
    "    local_data_path  : Path\n",
    "    unzip_path : Path"
   ]
  },
  {
   "cell_type": "code",
   "execution_count": 22,
   "metadata": {},
   "outputs": [],
   "source": [
    "from src.Heart_Segmentation.constants import *\n",
    "from src.Heart_Segmentation.utils.common import read_yaml ,create_directories"
   ]
  },
  {
   "cell_type": "code",
   "execution_count": 23,
   "metadata": {},
   "outputs": [],
   "source": [
    "class ConfigurationManager:\n",
    "    def __init__(self , config_filepath = CONFIG_FILE_PATH, params_filepath = PARAMS_FILE_PATH):\n",
    "        self.config = read_yaml(config_filepath)\n",
    "        self.params = read_yaml(params_filepath)\n",
    "\n",
    "        create_directories([self.config.artifacts_root])\n",
    "\n",
    "\n",
    "    def get_data_ingetsion_config(self) -> DataIngestionConfig:\n",
    "        config = self.config.data_ingestion\n",
    "\n",
    "        create_directories([config.root_dir])\n",
    "\n",
    "        data_ingestion_config = DataIngestionConfig(\n",
    "            root_dir= config.root_dir,\n",
    "            source_url= config.source_url,\n",
    "            local_data_path= config.local_data_path,\n",
    "            unzip_path= config.unzip_path\n",
    "        )\n",
    "\n",
    "        return data_ingestion_config"
   ]
  },
  {
   "cell_type": "code",
   "execution_count": 24,
   "metadata": {},
   "outputs": [],
   "source": [
    "from pathlib import Path\n",
    "import os\n",
    "import zipfile\n",
    "from src.Heart_Segmentation import logger\n",
    "from src.Heart_Segmentation.utils.common import get_size\n",
    "import gdown"
   ]
  },
  {
   "cell_type": "code",
   "execution_count": 27,
   "metadata": {},
   "outputs": [],
   "source": [
    "class DataIngestion:\n",
    "    def __init__(self , config : DataIngestionConfig):\n",
    "        self.config = config\n",
    "\n",
    "\n",
    "    def download_dataset(self):\n",
    "        source_url = self.config.source_url\n",
    "        unzip_path = self.config.unzip_path\n",
    "\n",
    "        if not os.path.exists(self.config.local_data_path):\n",
    "            gdown.download_folder(url = source_url , output= unzip_path, use_cookies=False , quiet= False)\n",
    "            logger.info(f\"Dataset downloaded!!\")\n",
    "        else:\n",
    "            logger.info(f\"file already exists of size : {get_size(Path(self.config.local_data_file))}\")\n",
    "\n",
    "    def zip_extract(self):\n",
    "        local_data_path = self.config.local_data_path\n",
    "        unzip_path = self.config.unzip_path\n",
    "\n",
    "        with zipfile.ZipFile(local_data_path , 'r') as zip_ref:\n",
    "            zip_ref.extractall(unzip_path)\n",
    "            logger.info(f\"File successfully extracted\")"
   ]
  },
  {
   "cell_type": "code",
   "execution_count": 28,
   "metadata": {},
   "outputs": [
    {
     "name": "stdout",
     "output_type": "stream",
     "text": [
      "[2025-03-26 10:23:37,234: INFO: common : yaml file: config/config.yaml loaded successfully]\n",
      "[2025-03-26 10:23:37,237: INFO: common : yaml file: params.yaml loaded successfully]\n",
      "[2025-03-26 10:23:37,238: INFO: common : created directory at: artifacts]\n",
      "[2025-03-26 10:23:37,239: INFO: common : created directory at: artifacts/data_ingestion]\n"
     ]
    },
    {
     "name": "stderr",
     "output_type": "stream",
     "text": [
      "Retrieving folder contents\n"
     ]
    },
    {
     "name": "stdout",
     "output_type": "stream",
     "text": [
      "Processing file 1bOgu_rWcJqBRdmHqKzvD98QplpURHaIn Heart.zip\n"
     ]
    },
    {
     "name": "stderr",
     "output_type": "stream",
     "text": [
      "Retrieving folder contents completed\n",
      "Building directory structure\n",
      "Building directory structure completed\n",
      "Downloading...\n",
      "From (original): https://drive.google.com/uc?id=1bOgu_rWcJqBRdmHqKzvD98QplpURHaIn\n",
      "From (redirected): https://drive.google.com/uc?id=1bOgu_rWcJqBRdmHqKzvD98QplpURHaIn&confirm=t&uuid=22999908-0a80-4ff9-8fa6-5630a3d4ab1e\n",
      "To: /home/priyanshu1303d/Projects/Heart_Segmentation/artifacts/data_ingestion/Heart.zip\n",
      "100%|██████████| 454M/454M [00:11<00:00, 39.6MB/s] "
     ]
    },
    {
     "name": "stdout",
     "output_type": "stream",
     "text": [
      "[2025-03-26 10:23:55,535: INFO: 1297925953 : Dataset downloaded!!]\n"
     ]
    },
    {
     "name": "stderr",
     "output_type": "stream",
     "text": [
      "\n",
      "Download completed\n"
     ]
    },
    {
     "name": "stdout",
     "output_type": "stream",
     "text": [
      "[2025-03-26 10:23:57,883: INFO: 1297925953 : File successfully extracted]\n"
     ]
    }
   ],
   "source": [
    "try:\n",
    "    config = ConfigurationManager()\n",
    "    data_ingestion_config = config.get_data_ingetsion_config()\n",
    "    data_ingestion = DataIngestion(data_ingestion_config)\n",
    "    data_ingestion.download_dataset()\n",
    "    data_ingestion.zip_extract()\n",
    "except Exception as e:\n",
    "    raise e"
   ]
  },
  {
   "cell_type": "markdown",
   "metadata": {},
   "source": [
    "# Data Ingestion Completed"
   ]
  },
  {
   "cell_type": "code",
   "execution_count": null,
   "metadata": {},
   "outputs": [],
   "source": []
  },
  {
   "cell_type": "code",
   "execution_count": null,
   "metadata": {},
   "outputs": [],
   "source": []
  },
  {
   "cell_type": "code",
   "execution_count": null,
   "metadata": {},
   "outputs": [],
   "source": []
  }
 ],
 "metadata": {
  "kernelspec": {
   "display_name": "heart",
   "language": "python",
   "name": "python3"
  },
  "language_info": {
   "codemirror_mode": {
    "name": "ipython",
    "version": 3
   },
   "file_extension": ".py",
   "mimetype": "text/x-python",
   "name": "python",
   "nbconvert_exporter": "python",
   "pygments_lexer": "ipython3",
   "version": "3.9.21"
  }
 },
 "nbformat": 4,
 "nbformat_minor": 2
}
